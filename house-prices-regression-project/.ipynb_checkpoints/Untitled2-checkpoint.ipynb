{
 "cells": [
  {
   "cell_type": "code",
   "execution_count": 1,
   "id": "3b78e4c0-d910-4eb5-a2e8-c943691b7f63",
   "metadata": {},
   "outputs": [
    {
     "name": "stdout",
     "output_type": "stream",
     "text": [
      "StandardScaler()\n",
      "[0.5 0.5]\n",
      "[0.25 0.25]\n",
      "[0.5 0.5]\n",
      "[[-1. -1.]\n",
      " [-1. -1.]\n",
      " [ 1.  1.]\n",
      " [ 1.  1.]]\n",
      "[[3. 3.]]\n"
     ]
    }
   ],
   "source": [
    "from sklearn.preprocessing import StandardScaler\n",
    "data = [[0, 0], [0, 0], [1, 1], [1, 1]]\n",
    "scaler = StandardScaler()\n",
    "scaler.mean_ = [0.5, 0.5]\n",
    "print(scaler.fit(data))\n",
    "print(scaler.mean_)\n",
    "print(scaler.var_)\n",
    "print(scaler.scale_)\n",
    "print(scaler.transform(data))\n",
    "print(scaler.transform([[2, 2]]))"
   ]
  },
  {
   "cell_type": "code",
   "execution_count": 3,
   "id": "06be2ba8-21c1-4cf1-9ad1-b26870794b10",
   "metadata": {},
   "outputs": [
    {
     "name": "stdout",
     "output_type": "stream",
     "text": [
      "[0.5, 0.5]\n",
      "[0.5, 0.5]\n",
      "[[-1. -1.]\n",
      " [-1. -1.]\n",
      " [ 1.  1.]\n",
      " [ 1.  1.]]\n",
      "[[3. 3.]]\n"
     ]
    }
   ],
   "source": [
    "data = [[0, 0], [0, 0], [1, 1], [1, 1]]\n",
    "scaler = StandardScaler()\n",
    "scaler.mean_ = [0.5, 0.5]\n",
    "scaler.scale_ = [0.5, 0.5]\n",
    "print(scaler.mean_)\n",
    "print(scaler.scale_)\n",
    "print(scaler.transform(data))\n",
    "print(scaler.transform([[2, 2]]))"
   ]
  },
  {
   "cell_type": "code",
   "execution_count": 11,
   "id": "efa20a6e-3a12-40c1-bef8-2b53c9ed83b4",
   "metadata": {},
   "outputs": [
    {
     "name": "stdout",
     "output_type": "stream",
     "text": [
      "LabelEncoder()\n",
      "['amsterdam' 'paris' 'tokyo']\n",
      "[2 2 1]\n",
      "{}\n"
     ]
    }
   ],
   "source": [
    "from sklearn.preprocessing import LabelEncoder\n",
    "le = LabelEncoder()\n",
    "print(le.fit([\"paris\", \"paris\", \"tokyo\", \"amsterdam\"]))\n",
    "print(le.classes_)\n",
    "print(le.transform([\"tokyo\", \"tokyo\", \"paris\", \"\"amsterdam\"\"]))\n",
    "print(le.get_metadata_routing())"
   ]
  },
  {
   "cell_type": "code",
   "execution_count": null,
   "id": "019cf4d1-923d-4086-bb6c-ae3b60097341",
   "metadata": {},
   "outputs": [],
   "source": []
  }
 ],
 "metadata": {
  "kernelspec": {
   "display_name": "Python 3 (ipykernel)",
   "language": "python",
   "name": "python3"
  },
  "language_info": {
   "codemirror_mode": {
    "name": "ipython",
    "version": 3
   },
   "file_extension": ".py",
   "mimetype": "text/x-python",
   "name": "python",
   "nbconvert_exporter": "python",
   "pygments_lexer": "ipython3",
   "version": "3.11.9"
  }
 },
 "nbformat": 4,
 "nbformat_minor": 5
}
